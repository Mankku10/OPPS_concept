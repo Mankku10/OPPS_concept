{
 "cells": [
  {
   "cell_type": "code",
   "execution_count": 2,
   "metadata": {},
   "outputs": [],
   "source": [
    "class Engine:\n",
    "    \n",
    "    def start(self):\n",
    "        print(\"start like a generic engine\")\n",
    "        \n",
    "    def stop(self):\n",
    "        print(\"stop like a generic engine\")"
   ]
  },
  {
   "cell_type": "code",
   "execution_count": 10,
   "metadata": {},
   "outputs": [],
   "source": [
    "class Car:\n",
    "    \n",
    "    def __init__(self):\n",
    "        self.__engine =  Engine()\n",
    "        self.__attempts = 3\n",
    "        \n",
    "    def start(self):\n",
    "        if self.__attempts == 0:\n",
    "            print(\"car is on perm lock\")\n",
    "            return\n",
    "        \n",
    "        if self.__check_auth():\n",
    "            self.__engine.start()\n",
    "            self.__attempts = 3\n",
    "        \n",
    "        else:\n",
    "            self.__attempts -=1\n",
    "        \n",
    "    def __check_auth(self):\n",
    "        password = input(\"enter a password\")\n",
    "        return password == \"123456\""
   ]
  },
  {
   "cell_type": "code",
   "execution_count": 11,
   "metadata": {},
   "outputs": [],
   "source": [
    "mycar = Car()"
   ]
  },
  {
   "cell_type": "code",
   "execution_count": 18,
   "metadata": {},
   "outputs": [
    {
     "name": "stdout",
     "output_type": "stream",
     "text": [
      "car is on perm lock\n"
     ]
    }
   ],
   "source": [
    "mycar.start()"
   ]
  },
  {
   "cell_type": "code",
   "execution_count": null,
   "metadata": {},
   "outputs": [],
   "source": []
  }
 ],
 "metadata": {
  "kernelspec": {
   "display_name": "Python 3",
   "language": "python",
   "name": "python3"
  },
  "language_info": {
   "codemirror_mode": {
    "name": "ipython",
    "version": 3
   },
   "file_extension": ".py",
   "mimetype": "text/x-python",
   "name": "python",
   "nbconvert_exporter": "python",
   "pygments_lexer": "ipython3",
   "version": "3.7.0"
  }
 },
 "nbformat": 4,
 "nbformat_minor": 2
}
